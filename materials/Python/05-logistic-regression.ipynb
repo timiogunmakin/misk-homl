{
 "cells": [
  {
   "cell_type": "markdown",
   "id": "d1b8c7aa-60da-4236-b72f-20685a4406a8",
   "metadata": {},
   "source": [
    "# Module 05: Logistic Regression"
   ]
  },
  {
   "cell_type": "markdown",
   "id": "475df47e-56a2-400a-9fe0-fd226c1db00a",
   "metadata": {},
   "source": [
    "## Prerequisites"
   ]
  },
  {
   "cell_type": "code",
   "execution_count": null,
   "id": "2400c689-09dd-4e1a-8566-36f2d7cdca72",
   "metadata": {},
   "outputs": [],
   "source": [
    "# Helper packages\n",
    "import pandas as pd\n",
    "from plotnine import *\n",
    "\n",
    "# Modeling packages\n",
    "from sklearn.model_selection import train_test_split\n",
    "from sklearn.preprocessing import OneHotEncoder\n",
    "from sklearn.linear_model import LogisticRegression\n",
    "from sklearn.linear_model import LogisticRegressionCV\n",
    "from sklearn.metrics import roc_auc_score, plot_roc_curve"
   ]
  },
  {
   "cell_type": "code",
   "execution_count": null,
   "id": "7c7ad13b-6a84-45ca-b9d8-981f8d6be68e",
   "metadata": {},
   "outputs": [],
   "source": [
    "churn = pd.read_csv(\"../data/attrition.csv\")\n",
    "\n",
    "# recode response variable to 1/0\n",
    "churn = churn.replace({\"Attrition\": {\"Yes\": 1, \"No\": 0}})\n",
    "\n",
    "# create train/test split\n",
    "train, test = train_test_split(\n",
    "  churn, \n",
    "  train_size=0.7, \n",
    "  random_state=123, \n",
    "  stratify=churn[[\"Attrition\"]],\n",
    "  )\n",
    "\n",
    "# separate features from labels and only use numeric features\n",
    "X_train = train.drop(\"Attrition\", axis=1)\n",
    "y_train = train[[\"Attrition\"]].values.ravel()"
   ]
  },
  {
   "cell_type": "markdown",
   "id": "b9df1d0e-8360-4f3c-aae7-80f1a6c39a61",
   "metadata": {},
   "source": [
    "## Simple logistic regression"
   ]
  },
  {
   "cell_type": "code",
   "execution_count": null,
   "id": "4e715a44-ab98-4d3a-af0b-b06ef66f85a0",
   "metadata": {},
   "outputs": [],
   "source": [
    "# model 1\n",
    "lr_mod = LogisticRegression()\n",
    "lr_fit1 = lr_mod.fit(X_train[[\"MonthlyIncome\"]], y_train)"
   ]
  },
  {
   "cell_type": "code",
   "execution_count": null,
   "id": "72405ec2-cdc6-49b0-ba07-267d68a7b017",
   "metadata": {},
   "outputs": [],
   "source": [
    "overtime = pd.get_dummies(X_train[[\"OverTime\"]].copy())\n",
    "\n",
    "# model 2\n",
    "lr_mod = LogisticRegression()\n",
    "lr_fit2 = lr_mod.fit(overtime, y_train)"
   ]
  },
  {
   "cell_type": "markdown",
   "id": "ea0003ab-ccf6-4362-a33b-01ea62e8952a",
   "metadata": {},
   "source": [
    "### Interpretation"
   ]
  },
  {
   "cell_type": "code",
   "execution_count": null,
   "id": "33ec63ff-1a1c-4c79-82e4-1d62f924bcca",
   "metadata": {},
   "outputs": [],
   "source": [
    "lr_fit1.predict_proba(X_train[[\"MonthlyIncome\"]])"
   ]
  },
  {
   "cell_type": "code",
   "execution_count": null,
   "id": "25ed1c49-010e-415c-bf27-7c3f228c2e38",
   "metadata": {},
   "outputs": [],
   "source": [
    "pred = pd.DataFrame(\n",
    "  lr_fit1.predict_proba(X_train[[\"MonthlyIncome\"]]), \n",
    "  columns=[\"No\", \"Yes\"]\n",
    "  )\n",
    "  \n",
    "pred[\"MonthlyIncome\"] = X_train[\"MonthlyIncome\"].reset_index(drop=True)\n",
    "\n",
    "(ggplot(pred, aes('MonthlyIncome', 'Yes'))\n",
    "  + geom_point(alpha=0.2)\n",
    "  + scale_y_continuous(name=\"Probability of Attrition\", limits=(0, 1)))"
   ]
  },
  {
   "cell_type": "code",
   "execution_count": null,
   "id": "6b75fc0f-41be-409c-a7d5-30eb59c39c61",
   "metadata": {},
   "outputs": [],
   "source": [
    "pred = pd.DataFrame(\n",
    "  lr_fit2.predict_proba(overtime),\n",
    "  columns=[\"No\", \"Yes\"]\n",
    "  )\n",
    "\n",
    "pred[\"OverTime\"] = X_train[\"OverTime\"].reset_index(drop=True)\n",
    "\n",
    "(ggplot(pred, aes('OverTime', 'Yes', color='OverTime'))\n",
    "  + geom_boxplot(show_legend=False)\n",
    "  + geom_rug(sides=\"b\", position=\"jitter\", alpha=0.2, show_legend=False)\n",
    "  + scale_y_continuous(name=\"Probability of Attrition\", limits=(0, 1))\n",
    "  )"
   ]
  },
  {
   "cell_type": "markdown",
   "id": "47cb9ec8-5d77-4206-beeb-b18c9e5a9b77",
   "metadata": {},
   "source": [
    "## Multiple logistic regression"
   ]
  },
  {
   "cell_type": "code",
   "execution_count": null,
   "id": "ac25ce91-c923-4fb8-9a8d-61629b880a60",
   "metadata": {},
   "outputs": [],
   "source": [
    "feat = pd.get_dummies(X_train[[\"OverTime\"]].copy())\n",
    "feat[\"MonthlyIncome\"] = X_train[\"MonthlyIncome\"]\n",
    "\n",
    "# model 3\n",
    "lr_mod = LogisticRegression()\n",
    "lr_fit3 = lr_mod.fit(feat, y_train)"
   ]
  },
  {
   "cell_type": "code",
   "execution_count": null,
   "id": "5edd40b6-101d-4784-be8a-5e187207ed96",
   "metadata": {},
   "outputs": [],
   "source": [
    "pred = pd.DataFrame(\n",
    "  lr_fit3.predict_proba(feat),\n",
    "  columns=[\"No\", \"Yes\"]\n",
    "  )\n",
    "\n",
    "pred = pred.join(X_train[[\"MonthlyIncome\", \"OverTime\"]].reset_index(drop=True))\n",
    "\n",
    "(ggplot(pred, aes(\"MonthlyIncome\", \"Yes\", color=\"OverTime\"))\n",
    "  + geom_point(alpha=0.5, size=0.8)\n",
    "  + scale_y_continuous(name=\"Probability of Attrition\", limits=(0, 1)))"
   ]
  },
  {
   "cell_type": "markdown",
   "id": "5bd22d5c-cadc-4d35-9f91-0478f69e1fe3",
   "metadata": {},
   "source": [
    "## Assessing model accuracy"
   ]
  },
  {
   "cell_type": "markdown",
   "id": "9d531544-a1d6-4fc6-aa44-734e49541f1d",
   "metadata": {},
   "source": [
    "### Basic model performance"
   ]
  },
  {
   "cell_type": "code",
   "execution_count": null,
   "id": "ed82334a-4b95-4a8b-990f-dc6448f8b200",
   "metadata": {},
   "outputs": [],
   "source": [
    "lr1_pred = lr_fit1.predict_proba(X_train[[\"MonthlyIncome\"]])\n",
    "auc = roc_auc_score(y_train, lr1_pred[:, 1])\n",
    "round(auc, 3)"
   ]
  },
  {
   "cell_type": "markdown",
   "id": "7b4ed5ed-6539-4fbb-9cce-1db98492936f",
   "metadata": {},
   "source": [
    "### Cross-validation performance"
   ]
  },
  {
   "cell_type": "code",
   "execution_count": null,
   "id": "2ff4e40d-394f-45fb-b447-74e462800288",
   "metadata": {},
   "outputs": [],
   "source": [
    "cv_lr = LogisticRegressionCV(\n",
    "  cv=5, \n",
    "  solver='liblinear',\n",
    "  scoring='roc_auc',\n",
    "  random_state=123).fit(X_train[[\"MonthlyIncome\"]], y_train)\n",
    "\n",
    "auc = cv_lr.score(X_train[[\"MonthlyIncome\"]], y_train)\n",
    "round(auc, 3)"
   ]
  },
  {
   "cell_type": "markdown",
   "id": "56d80ad9-64b4-45b4-a99d-c72259f96fbe",
   "metadata": {},
   "source": [
    "### Model comparison performance"
   ]
  },
  {
   "cell_type": "code",
   "execution_count": null,
   "id": "88a474f0-355a-40b4-af7c-b326fd1d2b60",
   "metadata": {},
   "outputs": [],
   "source": [
    "# feature sets to compare across\n",
    "feature_set1 = X_train[[\"MonthlyIncome\"]]\n",
    "feature_set2 = pd.get_dummies(X_train[[\"OverTime\"]].copy())\n",
    "feature_set3 = feat = pd.get_dummies(X_train[[\"OverTime\"]].copy())\n",
    "feature_set3[\"MonthlyIncome\"] = X_train[\"MonthlyIncome\"]\n",
    "feature_sets = {'lr1': feature_set1, 'lr2': feature_set2, 'lr3': feature_set3}\n",
    "\n",
    "# object to store CV RMSE results\n",
    "results = {}\n",
    "\n",
    "for name, feat in feature_sets.items():\n",
    "  # train LR model\n",
    "  cv_lr = LogisticRegressionCV(\n",
    "    cv=5, \n",
    "    solver='liblinear',\n",
    "    scoring='roc_auc',\n",
    "    random_state=123).fit(feat, y_train)\n",
    "\n",
    "  auc = cv_lr.score(feat, y_train)\n",
    "  results[name] = round(auc, 3)\n",
    "  \n",
    "# print out results\n",
    "results"
   ]
  },
  {
   "cell_type": "markdown",
   "id": "e2ac4722-5ac7-4131-9adf-199ca2f28609",
   "metadata": {},
   "source": [
    "### Performance visualization"
   ]
  },
  {
   "cell_type": "code",
   "execution_count": null,
   "id": "6bc27a0e-5c8a-4443-9928-2692c26b7e06",
   "metadata": {},
   "outputs": [],
   "source": [
    "# the built in ROC curve plot uses matplotlib\n",
    "import matplotlib.pyplot as plt\n",
    "\n",
    "# create OverTime & MonthlyIncome features\n",
    "feat = pd.get_dummies(X_train[[\"OverTime\"]].copy())\n",
    "feat[\"MonthlyIncome\"] = X_train[\"MonthlyIncome\"]\n",
    "\n",
    "# model 3\n",
    "lr_mod = LogisticRegression()\n",
    "lr_fit3 = lr_mod.fit(feat, y_train)\n",
    "\n",
    "# create ROC curve\n",
    "plot_roc_curve(lr_fit3, feat, y_train)  \n",
    "plt.show()"
   ]
  },
  {
   "cell_type": "markdown",
   "id": "50809c83-229e-4795-81d2-9c56486475b3",
   "metadata": {},
   "source": [
    "## Exercises\n",
    "\n",
    "Using the spam data set from the kernlab package:\n",
    "\n",
    "1. Pick a single feature and apply simple logistic regression model.\n",
    "   - Interpret the feature's coefficient\n",
    "   - What is the model's performance?\n",
    "2. Pick another feature to add to the model.\n",
    "   - Before applying the module why do you think this feature will help?\n",
    "   - Apply a logistic regression model with the two features and compare to the simple linear model.\n",
    "   - Interpret the coefficients.\n",
    "3. Now apply a model that includes all the predictors.\n",
    "   - How does this model compare to the previous two?\n",
    "4. Plot an ROC curve comparing the performance of all three models\n",
    "5. Compute and interpret the following performance metrics:\n",
    "   - No information rate\n",
    "   - accuracy rate\n",
    "   - sensitivity\n",
    "   - specificity"
   ]
  },
  {
   "cell_type": "code",
   "execution_count": null,
   "id": "e2e3fb17-6184-495f-aab3-67cb92c33584",
   "metadata": {},
   "outputs": [],
   "source": []
  }
 ],
 "metadata": {
  "kernelspec": {
   "display_name": "",
   "name": ""
  },
  "language_info": {
   "name": ""
  }
 },
 "nbformat": 4,
 "nbformat_minor": 5
}
