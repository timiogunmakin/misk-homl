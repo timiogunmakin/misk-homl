{
 "cells": [
  {
   "cell_type": "markdown",
   "id": "7e6bc9d2-3ef6-4a82-9ce6-b26bed6ec49f",
   "metadata": {},
   "source": [
    "# Module 07: Multivariate Adaptive Regression Splines"
   ]
  },
  {
   "cell_type": "markdown",
   "id": "e0966a40-98d3-4da1-946c-ae74bd01ffa0",
   "metadata": {},
   "source": [
    "## Prerequisites"
   ]
  },
  {
   "cell_type": "code",
   "execution_count": 1,
   "id": "cbc958f2-5464-4643-b651-108b058ea57b",
   "metadata": {},
   "outputs": [],
   "source": [
    "# Helper packages\n",
    "import numpy as np\n",
    "import pandas as pd\n",
    "from plotnine import *\n",
    "\n",
    "# Modeling packages\n",
    "from pyearth import Earth\n",
    "from sklearn.model_selection import train_test_split\n",
    "from sklearn.preprocessing import OneHotEncoder\n",
    "from sklearn.compose import ColumnTransformer\n",
    "from sklearn.compose import make_column_selector as selector\n",
    "from sklearn.model_selection import GridSearchCV\n",
    "from sklearn.model_selection import KFold\n",
    "from sklearn.inspection import partial_dependence"
   ]
  },
  {
   "cell_type": "code",
   "execution_count": 2,
   "id": "4f1ac0be-bb6a-42a8-8881-c1e76c21958b",
   "metadata": {},
   "outputs": [],
   "source": [
    "# Ames housing data\n",
    "ames = pd.read_csv(\"../data/ames.csv\")\n",
    "\n",
    "# create train/test split\n",
    "train, test = train_test_split(ames, train_size=0.7, random_state=123)\n",
    "\n",
    "# separate features from labels and only use numeric features\n",
    "X_train = train.drop(\"Sale_Price\", axis=1)\n",
    "y_train = train[[\"Sale_Price\"]]"
   ]
  },
  {
   "cell_type": "markdown",
   "id": "968029a2-d709-4a1b-bc2c-08b6fbba2c9c",
   "metadata": {},
   "source": [
    "## Fitting a basic model"
   ]
  },
  {
   "cell_type": "code",
   "execution_count": 3,
   "id": "1f92187c-8181-4b5f-9e39-d561b03051df",
   "metadata": {},
   "outputs": [
    {
     "name": "stdout",
     "output_type": "stream",
     "text": [
      "Earth Model\n",
      "------------------------------------------\n",
      "Basis Function       Pruned  Coefficient  \n",
      "------------------------------------------\n",
      "(Intercept)          No      392053       \n",
      "h(Gr_Liv_Area-3500)  No      -379.207     \n",
      "h(3500-Gr_Liv_Area)  No      -85.3651     \n",
      "h(Year_Built-2009)   No      142719       \n",
      "h(2009-Year_Built)   No      -1136.79     \n",
      "h(Gr_Liv_Area-1905)  No      46.5807      \n",
      "h(1905-Gr_Liv_Area)  Yes     None         \n",
      "h(Gr_Liv_Area-3140)  No      194.026      \n",
      "h(3140-Gr_Liv_Area)  Yes     None         \n",
      "h(Gr_Liv_Area-2798)  Yes     None         \n",
      "h(2798-Gr_Liv_Area)  Yes     None         \n",
      "------------------------------------------\n",
      "MSE: 2114325265.1482, GCV: 2147703342.5369, RSQ: 0.6767, GRSQ: 0.6719\n"
     ]
    }
   ],
   "source": [
    "# Step 1: create model object\n",
    "earth_mod = Earth()\n",
    "\n",
    "# Step 2: fit/train model\n",
    "earth_fit = earth_mod.fit(X_train[[\"Gr_Liv_Area\", \"Year_Built\"]], y_train)\n",
    "\n",
    "# Step 3: results\n",
    "print(earth_fit.summary())"
   ]
  },
  {
   "cell_type": "code",
   "execution_count": 4,
   "id": "03ca80e1-5cf4-44f4-8873-c7cac1e75136",
   "metadata": {},
   "outputs": [
    {
     "data": {
      "text/plain": [
       "45981.7927570051"
      ]
     },
     "execution_count": 4,
     "metadata": {},
     "output_type": "execute_result"
    }
   ],
   "source": [
    "# RMSE\n",
    "np.sqrt(earth_fit.mse_)"
   ]
  },
  {
   "cell_type": "markdown",
   "id": "5d2aa7da-af19-4852-bdd7-436e79776f0d",
   "metadata": {},
   "source": [
    "## Fitting a full model"
   ]
  },
  {
   "cell_type": "code",
   "execution_count": 5,
   "id": "1fbab0b2-7340-438e-93ed-b3981aa50ea2",
   "metadata": {},
   "outputs": [],
   "source": [
    "# create new feature set with encoded features\n",
    "X_train_encoded = pd.get_dummies(X_train)"
   ]
  },
  {
   "cell_type": "code",
   "execution_count": 6,
   "id": "c1afb764-bd53-4188-a016-5d8aec05bac6",
   "metadata": {},
   "outputs": [
    {
     "name": "stdout",
     "output_type": "stream",
     "text": [
      "Earth Model\n",
      "--------------------------------------------------\n",
      "Basis Function               Pruned  Coefficient  \n",
      "--------------------------------------------------\n",
      "(Intercept)                  No      -177719      \n",
      "h(Gr_Liv_Area-3112)          No      59.5685      \n",
      "h(3112-Gr_Liv_Area)          No      -60.3777     \n",
      "h(Total_Bsmt_SF-2271)        Yes     None         \n",
      "h(2271-Total_Bsmt_SF)        No      -1028.23     \n",
      "Bsmt_Qual_Excellent          No      18871.5      \n",
      "Year_Built                   No      413.296      \n",
      "h(Garage_Area-736)           No      58.9552      \n",
      "h(736-Garage_Area)           No      -23.0269     \n",
      "h(Bsmt_Unf_SF-1065)          No      -21.4074     \n",
      "h(1065-Bsmt_Unf_SF)          No      18.7046      \n",
      "h(Total_Bsmt_SF-2140)        Yes     None         \n",
      "h(2140-Total_Bsmt_SF)        No      775.194      \n",
      "h(Total_Bsmt_SF-1922)        Yes     None         \n",
      "h(1922-Total_Bsmt_SF)        Yes     None         \n",
      "Kitchen_AbvGr                No      -33360.4     \n",
      "Kitchen_Qual_Excellent       No      24444.4      \n",
      "Kitchen_Qual_Good            No      11374.4      \n",
      "h(Latitude-42.0474)          Yes     None         \n",
      "h(42.0474-Latitude)          No      -171340      \n",
      "h(Lot_Area-3701)             No      0.599888     \n",
      "h(3701-Lot_Area)             No      -10.3207     \n",
      "Neighborhood_Crawford        No      31814.9      \n",
      "Overall_Qual_Very_Excellent  No      112026       \n",
      "Overall_Qual_Excellent       No      66842.3      \n",
      "Overall_Qual_Very_Good       No      27634.3      \n",
      "Condition_2_PosN             No      -141910      \n",
      "Sale_Condition_Abnorml       No      -17915.4     \n",
      "h(Year_Remod_Add-2009)       No      29262.5      \n",
      "h(2009-Year_Remod_Add)       No      -256.866     \n",
      "h(Total_Bsmt_SF-1374)        No      -188.541     \n",
      "h(1374-Total_Bsmt_SF)        No      222.954      \n",
      "--------------------------------------------------\n",
      "MSE: 597867287.3568, GCV: 638285663.6011, RSQ: 0.9086, GRSQ: 0.9025\n"
     ]
    }
   ],
   "source": [
    "# create model object\n",
    "earth_mod = Earth()\n",
    "\n",
    "# fit/train model\n",
    "earth_fit_full = earth_mod.fit(X_train_encoded, y_train)\n",
    "\n",
    "# results\n",
    "print(earth_fit_full.summary())"
   ]
  },
  {
   "cell_type": "code",
   "execution_count": 7,
   "id": "6c21bc3b-ab64-45ff-b96e-f9018f0a37f2",
   "metadata": {},
   "outputs": [
    {
     "data": {
      "text/plain": [
       "24451.324858928252"
      ]
     },
     "execution_count": 7,
     "metadata": {},
     "output_type": "execute_result"
    }
   ],
   "source": [
    "# RMSE\n",
    "np.sqrt(earth_fit_full.mse_)"
   ]
  },
  {
   "cell_type": "markdown",
   "id": "309dd832-4e2f-4213-a13a-295541142266",
   "metadata": {},
   "source": [
    "## Fitting a full model with interactions"
   ]
  },
  {
   "cell_type": "code",
   "execution_count": 8,
   "id": "f8c29401-3945-46ff-8006-1f58e8541d20",
   "metadata": {},
   "outputs": [
    {
     "name": "stdout",
     "output_type": "stream",
     "text": [
      "Earth Model\n",
      "-------------------------------------------------------------------\n",
      "Basis Function                               Pruned  Coefficient   \n",
      "-------------------------------------------------------------------\n",
      "(Intercept)                                  No      -2.29143e+06  \n",
      "h(Gr_Liv_Area-3112)                          No      180.773       \n",
      "h(3112-Gr_Liv_Area)                          No      -79.6032      \n",
      "h(Total_Bsmt_SF-2271)                        No      -1485.52      \n",
      "h(2271-Total_Bsmt_SF)                        No      1323.11       \n",
      "Bsmt_Qual_Excellent                          No      26694.9       \n",
      "Year_Built                                   No      1116.61       \n",
      "h(Total_Bsmt_SF-1930)*Year_Built             No      0.747973      \n",
      "h(1930-Total_Bsmt_SF)*Year_Built             No      -0.692553     \n",
      "h(Bsmt_Unf_SF-1065)*h(3112-Gr_Liv_Area)      No      -0.0273563    \n",
      "h(1065-Bsmt_Unf_SF)*h(3112-Gr_Liv_Area)      No      0.0106462     \n",
      "Land_Contour_Bnk*h(Gr_Liv_Area-3112)         No      -429.731      \n",
      "h(Garage_Area-736)*Year_Built                No      0.0922918     \n",
      "h(736-Garage_Area)*Year_Built                No      -0.0440671    \n",
      "Kitchen_AbvGr*Year_Built                     No      -16.9025      \n",
      "Exter_Qual_Excellent                         No      43826.8       \n",
      "h(Lot_Area-3701)*Year_Built                  No      0.0153689     \n",
      "h(3701-Lot_Area)*Year_Built                  Yes     None          \n",
      "h(Year_Remod_Add-2009)*Year_Built            No      16.9883       \n",
      "h(2009-Year_Remod_Add)*Year_Built            No      -0.19484      \n",
      "Neighborhood_Crawford*h(2271-Total_Bsmt_SF)  No      27.8665       \n",
      "h(Garage_Area-736)*h(3112-Gr_Liv_Area)       No      -0.0902558    \n",
      "h(736-Garage_Area)*h(3112-Gr_Liv_Area)       No      0.0324932     \n",
      "Functional_Typ*Year_Built                    No      10.1294       \n",
      "h(Latitude-42.0503)*Year_Built               Yes     None          \n",
      "h(42.0503-Latitude)*Year_Built               No      -108.044      \n",
      "h(Lot_Area-3701)                             No      -29.5457      \n",
      "h(3701-Lot_Area)                             No      -7.58563      \n",
      "-------------------------------------------------------------------\n",
      "MSE: 597434761.6950, GCV: 636220318.1155, RSQ: 0.9086, GRSQ: 0.9028\n"
     ]
    }
   ],
   "source": [
    "# create model object\n",
    "earth_mod = Earth(max_degree=2)\n",
    "\n",
    "# fit/train model\n",
    "earth_fit_int = earth_mod.fit(X_train_encoded, y_train)\n",
    "\n",
    "# results\n",
    "print(earth_fit_int.summary())"
   ]
  },
  {
   "cell_type": "markdown",
   "id": "4177d1ba-51b1-4695-a852-c80750d6c9f0",
   "metadata": {},
   "source": [
    "## Tuning"
   ]
  },
  {
   "cell_type": "code",
   "execution_count": 9,
   "id": "f5d3894e-ceaf-4af2-b878-2141d1c89f72",
   "metadata": {},
   "outputs": [],
   "source": [
    "# create model object\n",
    "earth_mod = Earth()\n",
    "\n",
    "# define loss function\n",
    "loss = 'neg_root_mean_squared_error'\n",
    "\n",
    "# create 5 fold CV object\n",
    "kfold = KFold(n_splits=5, random_state=123, shuffle=True)\n",
    "\n",
    "# Create grid of hyperparameter values\n",
    "hyper_grid = {'max_terms': range(1, 51, 3),\n",
    "              'max_degree': range(1, 3)}"
   ]
  },
  {
   "cell_type": "code",
   "execution_count": null,
   "id": "b55f095f-12e9-40ce-9dd8-2ee605472e62",
   "metadata": {},
   "outputs": [],
   "source": [
    "grid_search = GridSearchCV(earth_mod, hyper_grid, cv=kfold, scoring=loss)\n",
    "results = grid_search.fit(X_train_encoded, y_train)\n",
    "\n",
    "# Optimal penalty parameter in grid search\n",
    "results.best_estimator_"
   ]
  },
  {
   "cell_type": "code",
   "execution_count": null,
   "id": "1fe0e158-096d-411c-b04a-da2177eb380a",
   "metadata": {},
   "outputs": [],
   "source": [
    "# Best model's cross validated RMSE\n",
    "round(abs(results.best_score_), 2)"
   ]
  },
  {
   "cell_type": "code",
   "execution_count": null,
   "id": "1171d5cf-0ddc-4769-af78-5181c0e05138",
   "metadata": {},
   "outputs": [],
   "source": [
    "results_df = pd.DataFrame(results.cv_results_.get(\"params\"))\n",
    "results_df['RMSE'] = np.abs(results.cv_results_.get(\"mean_test_score\"))\n",
    "results_df['max_degree'] = results_df['max_degree'].astype(str)\n",
    "\n",
    "(ggplot(results_df, aes('max_terms', 'RMSE', color='max_degree'))\n",
    "  + geom_line()\n",
    "  + geom_point()\n",
    "  )"
   ]
  },
  {
   "cell_type": "markdown",
   "id": "96a39814-8b91-4329-903e-0c03fc3be41b",
   "metadata": {},
   "source": [
    "## Feature interpretation"
   ]
  },
  {
   "cell_type": "code",
   "execution_count": 10,
   "id": "70197bea-fd19-409d-a3c8-2a14418690a3",
   "metadata": {},
   "outputs": [
    {
     "data": {
      "image/png": "[encoded data removed]",
      "text/plain": [
       "<Figure size 640x480 with 1 Axes>"
      ]
     },
     "metadata": {},
     "output_type": "display_data"
    },
    {
     "data": {
      "text/plain": [
       "<ggplot: (320611850)>"
      ]
     },
     "execution_count": 10,
     "metadata": {},
     "output_type": "execute_result"
    }
   ],
   "source": [
    "best_mod = Earth(max_degree=2, max_terms=31, feature_importance_type='rss')\n",
    "best_mod_fit = best_mod.fit(X_train_encoded, y_train)\n",
    "\n",
    "vi = pd.DataFrame({'feature': best_mod_fit.xlabels_,\n",
    "              'importance': best_mod_fit.feature_importances_})\n",
    "\n",
    "# get top 20 influential features\n",
    "top_20_features = vi.nlargest(20, 'importance')\n",
    "\n",
    "# plot feature importance\n",
    "(ggplot(top_20_features, aes(x='importance', y='reorder(feature, importance)'))\n",
    " + geom_point()\n",
    " + labs(y=None))"
   ]
  },
  {
   "cell_type": "code",
   "execution_count": 11,
   "id": "a53d8bfe-83b8-4298-9055-f45d3eb50111",
   "metadata": {},
   "outputs": [
    {
     "data": {
      "image/png": "[encoded data removed]",
      "text/plain": [
       "<Figure size 640x480 with 1 Axes>"
      ]
     },
     "metadata": {},
     "output_type": "display_data"
    },
    {
     "data": {
      "text/plain": [
       "<ggplot: (322857322)>"
      ]
     },
     "execution_count": 11,
     "metadata": {},
     "output_type": "execute_result"
    }
   ],
   "source": [
    "pd_results = partial_dependence(\n",
    "  best_mod_fit, X_train_encoded, \"Gr_Liv_Area\", kind='average',\n",
    "  percentiles=(0, 1)) \n",
    "  \n",
    "pd_output = pd.DataFrame({'Gr_Liv_Area': pd_results['values'][0],\n",
    "                          'yhat': pd_results['average'][0]})\n",
    "                          \n",
    "(ggplot(pd_output, aes('Gr_Liv_Area', 'yhat'))\n",
    "  + geom_line())"
   ]
  },
  {
   "cell_type": "markdown",
   "id": "dfaebf35-fbdd-4660-9950-2524d9924cdb",
   "metadata": {},
   "source": [
    "## Exercises\n",
    "\n",
    "Using the `hitters` dataset:\n",
    "\n",
    "1. Apply a MARS model with all features.\n",
    "2. How does the model performance compare to your previous models?\n",
    "3. How many of the features are influential? Which 10 features are considered most influential?\n",
    "4. Does your model include hinge functions? If so, explain their coefficient and plot their impact on the predicted response variable.\n",
    "5. Does your model include interactions? If so, pick the interaction effect that is most influential and explain the coefficient."
   ]
  },
  {
   "cell_type": "code",
   "execution_count": null,
   "id": "b736c563-3f58-4012-aa74-ad573e189203",
   "metadata": {},
   "outputs": [],
   "source": []
  }
 ],
 "metadata": {
  "kernelspec": {
   "display_name": "Python 3 (ipykernel)",
   "language": "python",
   "name": "python3"
  },
  "language_info": {
   "codemirror_mode": {
    "name": "ipython",
    "version": 3
   },
   "file_extension": ".py",
   "mimetype": "text/x-python",
   "name": "python",
   "nbconvert_exporter": "python",
   "pygments_lexer": "ipython3",
   "version": "3.8.6"
  }
 },
 "nbformat": 4,
 "nbformat_minor": 5
}
