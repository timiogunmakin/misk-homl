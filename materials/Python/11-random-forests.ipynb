{
 "cells": [
  {
   "cell_type": "markdown",
   "id": "ad31b841-575d-4498-b0f1-81fec51e1a43",
   "metadata": {},
   "source": [
    "# Random Forests\n",
    "\n",
    "## Prerequisites"
   ]
  },
  {
   "cell_type": "code",
   "execution_count": 1,
   "id": "4512fa15-e790-4e64-9ea6-3ff401c4159c",
   "metadata": {},
   "outputs": [],
   "source": [
    "# Helper packages\n",
    "import numpy as np\n",
    "import pandas as pd\n",
    "from plotnine import *\n",
    "from scipy.stats import uniform\n",
    "from scipy.stats import randint\n",
    "\n",
    "# Modeling packages\n",
    "from sklearn.ensemble import RandomForestRegressor\n",
    "from sklearn.model_selection import train_test_split\n",
    "from category_encoders.ordinal import OrdinalEncoder\n",
    "from sklearn.preprocessing import OneHotEncoder\n",
    "from sklearn.compose import ColumnTransformer\n",
    "from sklearn.compose import make_column_selector as selector\n",
    "from sklearn.compose import ColumnTransformer\n",
    "from sklearn.compose import make_column_selector as selector\n",
    "from sklearn.model_selection import KFold\n",
    "from sklearn.model_selection import cross_val_score\n",
    "from sklearn.model_selection import GridSearchCV\n",
    "from sklearn.model_selection import RandomizedSearchCV\n",
    "from sklearn.inspection import partial_dependence\n",
    "from sklearn.pipeline import Pipeline"
   ]
  },
  {
   "cell_type": "code",
   "execution_count": 2,
   "id": "2e20556e-e25b-4cea-82cb-50a33fb3785b",
   "metadata": {},
   "outputs": [],
   "source": [
    "# Ames housing data\n",
    "ames = pd.read_csv(\"../data/ames.csv\")\n",
    "\n",
    "# create train/test split\n",
    "train, test = train_test_split(ames, train_size=0.7, random_state=123)\n",
    "\n",
    "# separate features from labels and only use numeric features\n",
    "X_train = train.drop(\"Sale_Price\", axis=1)\n",
    "y_train = train[[\"Sale_Price\"]]"
   ]
  },
  {
   "cell_type": "markdown",
   "id": "0885fe1d-63b5-43a9-a70c-3cd9ec541705",
   "metadata": {},
   "source": [
    "## Out-of-the-box performance"
   ]
  },
  {
   "cell_type": "code",
   "execution_count": 3,
   "id": "b8e1fc21-806b-4312-adda-4be7db8daca2",
   "metadata": {},
   "outputs": [],
   "source": [
    "# Ordinal encode our quality-based features \n",
    "ord_cols = list(X_train.filter(regex=(\"Qual$|QC$|Cond$\")).columns)\n",
    "lvs = [\"Very_Poor\", \"Poor\", \"Fair\", \"Below_Average\", \"Average\", \"Typical\", \n",
    "       \"Above_Average\", \"Good\", \"Very_Good\", \"Excellent\", \"Very_Excellent\"]\n",
    "val = range(0, len(lvs))\n",
    "lvl_map = dict(zip(lvs, val))\n",
    "category_mapping = [{'col': col, 'mapping': lvl_map} for col in ord_cols]\n",
    "ord_encoder = OrdinalEncoder(cols=ord_cols, mapping=category_mapping)\n",
    "\n",
    "# one hot encode remaining nominal features\n",
    "encoder = OneHotEncoder(handle_unknown=\"ignore\", sparse=False)\n",
    "\n",
    "# combine into a pre-processing pipeline\n",
    "preprocessor = ColumnTransformer(\n",
    "  remainder=\"passthrough\",\n",
    "  transformers=[\n",
    "   (\"ord_encode\", ord_encoder, ord_cols),\n",
    "   (\"one-hot\", encoder, selector(dtype_include=\"object\")),\n",
    "   ]\n",
    "  )"
   ]
  },
  {
   "cell_type": "code",
   "execution_count": 4,
   "id": "6369452c-b696-42cb-b506-9fcf9b27bade",
   "metadata": {},
   "outputs": [
    {
     "name": "stderr",
     "output_type": "stream",
     "text": [
      "/Users/b294776/Desktop/Workspace/Projects/misk/misk-homl/venv/lib/python3.8/site-packages/category_encoders/utils.py:21: FutureWarning: is_categorical is deprecated and will be removed in a future version.  Use is_categorical_dtype instead\n",
      "/Users/b294776/Desktop/Workspace/Projects/misk/misk-homl/venv/lib/python3.8/site-packages/sklearn/pipeline.py:346: DataConversionWarning: A column-vector y was passed when a 1d array was expected. Please change the shape of y to (n_samples,), for example using ravel().\n",
      "/Users/b294776/Desktop/Workspace/Projects/misk/misk-homl/venv/lib/python3.8/site-packages/category_encoders/utils.py:21: FutureWarning: is_categorical is deprecated and will be removed in a future version.  Use is_categorical_dtype instead\n",
      "/Users/b294776/Desktop/Workspace/Projects/misk/misk-homl/venv/lib/python3.8/site-packages/sklearn/pipeline.py:346: DataConversionWarning: A column-vector y was passed when a 1d array was expected. Please change the shape of y to (n_samples,), for example using ravel().\n",
      "/Users/b294776/Desktop/Workspace/Projects/misk/misk-homl/venv/lib/python3.8/site-packages/category_encoders/utils.py:21: FutureWarning: is_categorical is deprecated and will be removed in a future version.  Use is_categorical_dtype instead\n",
      "/Users/b294776/Desktop/Workspace/Projects/misk/misk-homl/venv/lib/python3.8/site-packages/sklearn/pipeline.py:346: DataConversionWarning: A column-vector y was passed when a 1d array was expected. Please change the shape of y to (n_samples,), for example using ravel().\n",
      "/Users/b294776/Desktop/Workspace/Projects/misk/misk-homl/venv/lib/python3.8/site-packages/category_encoders/utils.py:21: FutureWarning: is_categorical is deprecated and will be removed in a future version.  Use is_categorical_dtype instead\n",
      "/Users/b294776/Desktop/Workspace/Projects/misk/misk-homl/venv/lib/python3.8/site-packages/sklearn/pipeline.py:346: DataConversionWarning: A column-vector y was passed when a 1d array was expected. Please change the shape of y to (n_samples,), for example using ravel().\n",
      "/Users/b294776/Desktop/Workspace/Projects/misk/misk-homl/venv/lib/python3.8/site-packages/category_encoders/utils.py:21: FutureWarning: is_categorical is deprecated and will be removed in a future version.  Use is_categorical_dtype instead\n",
      "/Users/b294776/Desktop/Workspace/Projects/misk/misk-homl/venv/lib/python3.8/site-packages/sklearn/pipeline.py:346: DataConversionWarning: A column-vector y was passed when a 1d array was expected. Please change the shape of y to (n_samples,), for example using ravel().\n"
     ]
    },
    {
     "data": {
      "text/plain": [
       "28062.467835371743"
      ]
     },
     "execution_count": 4,
     "metadata": {},
     "output_type": "execute_result"
    }
   ],
   "source": [
    "# create random forest estimator\n",
    "rf_mod = RandomForestRegressor()\n",
    "\n",
    "# create modeling pipeline\n",
    "model_pipeline = Pipeline(steps=[\n",
    "  (\"preprocessor\", preprocessor),\n",
    "  (\"rf_mod\", rf_mod),\n",
    "])\n",
    "\n",
    "# define loss function\n",
    "loss = 'neg_root_mean_squared_error'\n",
    "\n",
    "# create 5 fold CV object\n",
    "kfold = KFold(n_splits=5, random_state=123, shuffle=True)\n",
    "\n",
    "# fit model with 5-fold CV\n",
    "results = cross_val_score(model_pipeline, X_train, y_train, cv=kfold, scoring=loss)\n",
    "\n",
    "np.abs(np.mean(results))"
   ]
  },
  {
   "cell_type": "markdown",
   "id": "e47659d6-7cb5-432b-9e9b-0008c5ba7c95",
   "metadata": {},
   "source": [
    "## Tuning strategies\n",
    "\n",
    "### Cartesian grid search"
   ]
  },
  {
   "cell_type": "code",
   "execution_count": null,
   "id": "9ba1bd37-3677-4ad2-b68f-2a1e35080481",
   "metadata": {},
   "outputs": [],
   "source": [
    "# create random forest estimator with 1,000 trees\n",
    "rf_mod = RandomForestRegressor(n_estimators=1000)\n",
    "\n",
    "# create modeling pipeline\n",
    "model_pipeline = Pipeline(steps=[\n",
    "  (\"preprocessor\", preprocessor),\n",
    "  (\"rf_mod\", rf_mod),\n",
    "])\n",
    "\n",
    "# Create grid of hyperparameter values\n",
    "hyper_grid = {\n",
    "  'rf_mod__max_features': [.05, .15, .25, .333, .4],\n",
    "  'rf_mod__min_samples_leaf': [1, 3, 5, 10],\n",
    "  'rf_mod__bootstrap': [True, False],\n",
    "  'rf_mod__max_samples': [.5, .63, .8]\n",
    "  }\n",
    "  \n",
    "# Tune a knn model using grid search\n",
    "grid_search = GridSearchCV(model_pipeline, hyper_grid, cv=kfold, scoring=loss, n_jobs=-1)\n",
    "results = grid_search.fit(X_train, y_train)\n",
    "\n",
    "# best model score\n",
    "np.abs(results.best_score_)"
   ]
  },
  {
   "cell_type": "code",
   "execution_count": null,
   "id": "a8a7359d-89ad-4a34-9f76-6b2d77420389",
   "metadata": {},
   "outputs": [],
   "source": [
    "# best hyperparameter values\n",
    "results.best_params_"
   ]
  },
  {
   "cell_type": "markdown",
   "id": "1bca8cd4-3a96-4257-8fdb-cac51722bf54",
   "metadata": {},
   "source": [
    "### Random grid search"
   ]
  },
  {
   "cell_type": "code",
   "execution_count": null,
   "id": "71dcf564-2ad9-4b17-a3ea-9a4b2c8e5dba",
   "metadata": {},
   "outputs": [],
   "source": [
    "# Create grid of hyperparameter values\n",
    "hyper_distributions = {\n",
    "  'rf_mod__max_features': uniform(.05, .35),\n",
    "  'rf_mod__min_samples_leaf': randint(1, 9),\n",
    "  'rf_mod__bootstrap': [True, False],\n",
    "  'rf_mod__max_samples': uniform(.5, .3)\n",
    "  }\n",
    "  \n",
    "# Tune a knn model using grid search\n",
    "random_search = RandomizedSearchCV(\n",
    "  model_pipeline, \n",
    "  param_distributions=hyper_distributions, \n",
    "  n_iter=20,\n",
    "  cv=kfold, \n",
    "  scoring=loss, \n",
    "  n_jobs=-1, \n",
    "  random_state=13\n",
    "  )\n",
    "random_search_results = random_search.fit(X_train, y_train)\n",
    "\n",
    "# best model score\n",
    "np.abs(random_search_results.best_score_)"
   ]
  },
  {
   "cell_type": "code",
   "execution_count": null,
   "id": "eeb6c1fa-e18c-472e-a8d5-e314ccf1a511",
   "metadata": {},
   "outputs": [],
   "source": [
    "# best hyperparameter values\n",
    "random_search_results.best_params_"
   ]
  },
  {
   "cell_type": "markdown",
   "id": "46d719ba-60e1-4c0c-af8b-6fefceebf487",
   "metadata": {},
   "source": [
    "## Feature interpretation"
   ]
  },
  {
   "cell_type": "code",
   "execution_count": null,
   "id": "f84695d6-81d7-4325-988f-e52492d51b56",
   "metadata": {},
   "outputs": [],
   "source": []
  }
 ],
 "metadata": {
  "kernelspec": {
   "display_name": "Python 3 (ipykernel)",
   "language": "python",
   "name": "python3"
  },
  "language_info": {
   "codemirror_mode": {
    "name": "ipython",
    "version": 3
   },
   "file_extension": ".py",
   "mimetype": "text/x-python",
   "name": "python",
   "nbconvert_exporter": "python",
   "pygments_lexer": "ipython3",
   "version": "3.8.6"
  }
 },
 "nbformat": 4,
 "nbformat_minor": 5
}
